{
 "cells": [
  {
   "cell_type": "code",
   "execution_count": 15,
   "id": "10ec6a94",
   "metadata": {},
   "outputs": [],
   "source": [
    "string = 'welcome to digital image processing'"
   ]
  },
  {
   "cell_type": "code",
   "execution_count": 16,
   "id": "15ffae8e",
   "metadata": {},
   "outputs": [],
   "source": [
    "class NodeTree(object):\n",
    "    def __init__(self, left=None, right=None):\n",
    "        self.left = left\n",
    "        self.right = right\n",
    "    def children(self):\n",
    "        return (self.left, self.right)\n",
    "    def nodes(self):\n",
    "        return (self.left, self.right)\n",
    "    def __str__(self):\n",
    "        return '%s_%s' % (self.left, self.right)"
   ]
  },
  {
   "cell_type": "code",
   "execution_count": 17,
   "id": "a2f1bde5",
   "metadata": {},
   "outputs": [],
   "source": [
    "def huffman_code_tree(node, left=True, binString=''):\n",
    "    if type(node) is str:\n",
    "        return {node: binString}\n",
    "    (l, r) = node.children()\n",
    "    d = dict()\n",
    "    d.update(huffman_code_tree(l, True, binString + '0'))\n",
    "    d.update(huffman_code_tree(r, False, binString + '1'))\n",
    "    return d"
   ]
  },
  {
   "cell_type": "code",
   "execution_count": 18,
   "id": "3fa1909b",
   "metadata": {},
   "outputs": [],
   "source": [
    "freq = {}\n",
    "for c in string:\n",
    "    if c in freq:\n",
    "        freq[c] += 1\n",
    "    else:\n",
    "        freq[c] = 1\n",
    "freq = sorted(freq.items(), key=lambda x: x[1], reverse=True)\n",
    "\n",
    "nodes = freq"
   ]
  },
  {
   "cell_type": "code",
   "execution_count": 19,
   "id": "0008cd66",
   "metadata": {},
   "outputs": [],
   "source": [
    "while len(nodes) > 1:\n",
    "    (key1, c1) = nodes[-1]\n",
    "    (key2, c2) = nodes[-2]\n",
    "    nodes = nodes[:-2]\n",
    "    node = NodeTree(key1, key2)\n",
    "    nodes.append((node, c1 + c2))\n",
    "    \n",
    "    nodes = sorted(nodes, key=lambda x: x[1], reverse=True)"
   ]
  },
  {
   "cell_type": "code",
   "execution_count": 20,
   "id": "24b8ffa2",
   "metadata": {},
   "outputs": [
    {
     "name": "stdout",
     "output_type": "stream",
     "text": [
      " Char | Huffman code \n",
      "----------------------\n",
      " 'e'  |         001\n",
      " ' '  |         000\n",
      " 'i'  |         011\n",
      " 'o'  |        1111\n",
      " 'g'  |        1110\n",
      " 'l'  |        1100\n",
      " 'c'  |        1001\n",
      " 'm'  |        1000\n",
      " 't'  |        1011\n",
      " 'a'  |        1010\n",
      " 's'  |        0101\n",
      " 'w'  |       11010\n",
      " 'd'  |      110111\n",
      " 'p'  |      110110\n",
      " 'r'  |       01001\n",
      " 'n'  |       01000\n"
     ]
    }
   ],
   "source": [
    "huffmanCode = huffman_code_tree(nodes[0][0])\n",
    "\n",
    "print(' Char | Huffman code ')\n",
    "print('----------------------')\n",
    "for (char, frequency) in freq:\n",
    "    print(' %-4r |%12s' % (char, huffmanCode[char]))"
   ]
  },
  {
   "cell_type": "code",
   "execution_count": null,
   "id": "869c4aec",
   "metadata": {},
   "outputs": [],
   "source": []
  }
 ],
 "metadata": {
  "kernelspec": {
   "display_name": "Python 3 (ipykernel)",
   "language": "python",
   "name": "python3"
  },
  "language_info": {
   "codemirror_mode": {
    "name": "ipython",
    "version": 3
   },
   "file_extension": ".py",
   "mimetype": "text/x-python",
   "name": "python",
   "nbconvert_exporter": "python",
   "pygments_lexer": "ipython3",
   "version": "3.8.12"
  }
 },
 "nbformat": 4,
 "nbformat_minor": 5
}
